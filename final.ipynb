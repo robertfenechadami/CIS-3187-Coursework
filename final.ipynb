{
 "cells": [
  {
   "cell_type": "markdown",
   "metadata": {},
   "source": [
    "Import Libraries"
   ]
  },
  {
   "cell_type": "code",
   "execution_count": 13,
   "metadata": {},
   "outputs": [],
   "source": [
    "import numpy as np\n",
    "import random\n",
    "import sys\n",
    "import pandas as pd\n",
    "import matplotlib.pyplot as plt\n",
    "from typing import List\n",
    "\n",
    "np.set_printoptions(threshold=sys.maxsize)\n",
    "np.random.seed(0)\n",
    "\n",
    "df = pd.read_csv(\"titanic_dataset.csv\", header=None)\n",
    "  \n",
    "\n",
    "# Normalize columns\n",
    "#df[1] = df[1] /df[1].abs().max()\n",
    "df[2] = df[2] /df[2].abs().max()\n",
    "#df[3] = df[3] /df[3].abs().max()\n",
    "#df[4] = df[4] /df[4].abs().max()\n",
    "df[5] = df[5] /df[5].abs().max()\n",
    "  \n",
    "# Map data to array\n",
    "dataSet = df.to_numpy()\n",
    "#Shuffle\n",
    "np.random.shuffle(dataSet)\n",
    "\n",
    "# Set training and testing sets    \n",
    "trainingSet = dataSet[:571]\n",
    "testSet = dataSet[571:]\n",
    "\n"
   ]
  },
  {
   "cell_type": "markdown",
   "metadata": {},
   "source": [
    "Initialize Weights"
   ]
  },
  {
   "cell_type": "code",
   "execution_count": 14,
   "metadata": {},
   "outputs": [
    {
     "name": "stdout",
     "output_type": "stream",
     "text": [
      "Original hidden layer weights:  [[ 0.07640523 -0.05998428 -0.0021262   0.12408932]\n",
      " [ 0.0867558  -0.19772779 -0.00499116 -0.11513572]\n",
      " [-0.11032189 -0.05894015 -0.08559564  0.04542735]\n",
      " [-0.02389623 -0.0878325  -0.05561368 -0.06663257]\n",
      " [ 0.04940791 -0.12051583 -0.06869323 -0.18540957]]\n",
      "Original output layer weights:  [[-0.35529898]\n",
      " [-0.03463814]\n",
      " [-0.01355638]\n",
      " [-0.1742165 ]]\n"
     ]
    }
   ],
   "source": [
    "errorThreshold = 0.2\n",
    "\n",
    "# Generate random weights\n",
    "wH = np.random.normal(-0.1, 0.1, (5, 4))\n",
    "wO = np.random.normal(-0.1, 0.1, (4, 1))\n",
    "print(\"Original hidden layer weights: \", wH)\n",
    "print(\"Original output layer weights: \",wO)"
   ]
  },
  {
   "cell_type": "markdown",
   "metadata": {},
   "source": [
    "Sigmoid"
   ]
  },
  {
   "cell_type": "code",
   "execution_count": 15,
   "metadata": {},
   "outputs": [],
   "source": [
    "def sigmoid(x):\n",
    "    return 1 / (1 + np.exp(-x))\n"
   ]
  },
  {
   "cell_type": "markdown",
   "metadata": {},
   "source": [
    "Training"
   ]
  },
  {
   "cell_type": "code",
   "execution_count": 16,
   "metadata": {},
   "outputs": [
    {
     "name": "stdout",
     "output_type": "stream",
     "text": [
      "End of training - Model did not converge\n",
      "Percentage:  79.6847635726795\n",
      "New wH:  [[ 1.05683928e+00 -2.23822310e+00  4.16028124e+00  1.30388581e+00]\n",
      " [ 1.39805352e+00  3.87573941e+01  1.50852971e+00  5.43141594e+00]\n",
      " [-3.00922183e-02  3.72420367e+00  7.92608352e-01  3.20083827e+00]\n",
      " [ 3.18777372e-01 -8.06591566e-01 -3.09324293e-01 -7.94089001e+00]\n",
      " [ 2.00713540e-01 -1.31279375e+01  6.08503552e-01 -1.22722548e+01]]\n"
     ]
    }
   ],
   "source": [
    "badFactsPerEpoch: List[float] = list()\n",
    "percentage = 0\n",
    "epochs = 0\n",
    "    \n",
    "while True:\n",
    "    badFacts: int = 0\n",
    "\n",
    "        \n",
    "    for fact in trainingSet:\n",
    "        \n",
    "        # Set Input and Target\n",
    "        targetString = fact[5]\n",
    "        input = np.array([0, 0, 0, 0, 0], dtype=np.float64)\n",
    "        \n",
    "\n",
    "        input[0] = fact[1]\n",
    "        input[1] = fact[2]\n",
    "        input[2] = fact[3]\n",
    "        input[3] = fact[4]\n",
    "        input[4] = fact[5]\n",
    "        target = fact[0]\n",
    "\n",
    "\n",
    "            \n",
    "        # Feedforward\n",
    "        netH = np.dot(input, wH).astype(np.float64)\n",
    "        outH = sigmoid(netH)\n",
    "        netO = np.dot(outH, wO).astype(np.float64)\n",
    "        outO = sigmoid(netO)\n",
    "        error = target - outO\n",
    "\n",
    "        # Check error threshold\n",
    "        if abs(error) > errorThreshold:\n",
    "                \n",
    "            badFacts +=1\n",
    "        # Error Back Propagation\n",
    "            #backPropogation(outO, outH, target, input, wH, wO)\n",
    "             # deltaO\n",
    "            deltaO = outO * (1 - outO) * (target - outO)\n",
    "    # change in wO\n",
    "            eta = 0.2\n",
    "            i = 0\n",
    "            for output in outH:\n",
    "        \n",
    "                wO[i][0] += eta * deltaO * output\n",
    "                i = i + 1\n",
    "    #sigmaDelta\n",
    "            sum = 0  \n",
    "    #deltaH\n",
    "            j = 0\n",
    "            deltaH = np.array([0, 0, 0, 0], dtype=np.float64)\n",
    "            for entry in outH:\n",
    "                sum += (deltaO * wO[j, 0])\n",
    "                deltaH[j] = (entry * (1 - entry) * (sum))\n",
    "                j = j + 1\n",
    "    # change in wH\n",
    "            eta = 0.2\n",
    "            k = 0\n",
    "            for inputs in input:\n",
    "                x = 0\n",
    "                for delta in deltaH:\n",
    "                    wH[k][x] += eta * delta * inputs\n",
    "                    x = x + 1\n",
    "                k = k + 1\n",
    "\n",
    "\n",
    "        \n",
    "    badFactsPerEpoch.append((badFacts / len(trainingSet)) * 100)\n",
    "    percentage = (badFacts / len(trainingSet))*100   \n",
    "    if epochs == 999 or badFactsPerEpoch[-1] == 0:\n",
    "        print(\"End of training - Model did not converge\")\n",
    "        break\n",
    "    epochs = epochs + 1\n",
    "\n",
    "print(\"Percentage: \", percentage)\n",
    "print(\"New wH: \", wH)\n"
   ]
  },
  {
   "cell_type": "markdown",
   "metadata": {},
   "source": [
    "Testing"
   ]
  },
  {
   "cell_type": "code",
   "execution_count": 17,
   "metadata": {},
   "outputs": [
    {
     "name": "stdout",
     "output_type": "stream",
     "text": [
      "Number of Epochs: 999\n",
      "Performance: 65.73%\n",
      "Good facts:  94\n"
     ]
    }
   ],
   "source": [
    "\n",
    "    good_facts = 0\n",
    "    BAD_FACTS = 0\n",
    "    \n",
    "    #print(testData)\n",
    "    # EPOCH START\n",
    "    for fact in testSet:\n",
    "\n",
    "        # Set input and Target\n",
    "        input = np.array([0, 0, 0, 0, 0], dtype=np.float64)\n",
    "        target = np.array([0], dtype=np.float64)\n",
    "\n",
    "        input[0] = fact[1]\n",
    "        input[1] = fact[2]\n",
    "        input[2] = fact[3]\n",
    "        input[3] = fact[4]\n",
    "        input[4] = fact[5]\n",
    "        target[0] = fact[0]\n",
    "\n",
    "        # Feedforward        \n",
    "        netH = np.dot(input, wH).astype(np.float64)\n",
    "        outH = sigmoid(netH)\n",
    "        netO = np.dot(outH, wO).astype(np.float64)\n",
    "        outO = sigmoid(netO)\n",
    "        error = target - outO\n",
    "\n",
    "       \n",
    "        \n",
    "        # Rounding output to 0 or 1\n",
    "        outO[outO >= 0.5] = 1\n",
    "        \n",
    "        outO[outO < 0.5] = 0\n",
    "\n",
    "        if np.array_equal(outO, target):\n",
    "            \n",
    "            good_facts += 1\n",
    "\n",
    "    print(\"Number of Epochs: \" + str(epochs))\n",
    "    performance: float = (good_facts/len(testSet)) * 100\n",
    "    print(f\"Performance: {performance.__format__('.2f')}%\")\n",
    "   # print(badFactsPerEpoch)\n",
    "    print(\"Good facts: \", good_facts)\n",
    "    \n",
    "    "
   ]
  },
  {
   "cell_type": "markdown",
   "metadata": {},
   "source": [
    "Plot Graph"
   ]
  },
  {
   "cell_type": "code",
   "execution_count": 18,
   "metadata": {},
   "outputs": [
    {
     "data": {
      "image/png": "[encoded data removed]",
      "text/plain": [
       "<Figure size 432x288 with 1 Axes>"
      ]
     },
     "metadata": {
      "needs_background": "light"
     },
     "output_type": "display_data"
    }
   ],
   "source": [
    "x = np.arange(len(badFactsPerEpoch))\n",
    "\n",
    "plt.plot(x, badFactsPerEpoch, color='blue', linestyle='-')\n",
    "plt.title(\"Percentage of Bad Facts per Epoch\")\n",
    "plt.xlabel(\"Epochs\")\n",
    "plt.ylabel(\"Bad Facts\")\n",
    "plt.xlim(left=0)\n",
    "plt.ylim(bottom=0)\n",
    "plt.ylim(top=100)\n",
    "plt.show()"
   ]
  }
 ],
 "metadata": {
  "kernelspec": {
   "display_name": "Python 3.10.8 64-bit (microsoft store)",
   "language": "python",
   "name": "python3"
  },
  "language_info": {
   "codemirror_mode": {
    "name": "ipython",
    "version": 3
   },
   "file_extension": ".py",
   "mimetype": "text/x-python",
   "name": "python",
   "nbconvert_exporter": "python",
   "pygments_lexer": "ipython3",
   "version": "3.10.8"
  },
  "orig_nbformat": 4,
  "vscode": {
   "interpreter": {
    "hash": "cbabb6a6661170c103e1200ae5be4d0ad3a85cf2c948ad02dfb30634516f0145"
   }
  }
 },
 "nbformat": 4,
 "nbformat_minor": 2
}
